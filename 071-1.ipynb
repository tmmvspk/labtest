{
  "nbformat": 4,
  "nbformat_minor": 0,
  "metadata": {
    "colab": {
      "provenance": []
    },
    "kernelspec": {
      "name": "python3",
      "display_name": "Python 3"
    },
    "language_info": {
      "name": "python"
    }
  },
  "cells": [
    {
      "cell_type": "code",
      "execution_count": 96,
      "metadata": {
        "colab": {
          "base_uri": "https://localhost:8080/"
        },
        "id": "5Xl6su-lKuN8",
        "outputId": "6cca3ccc-c7d8-4d61-e774-b0f16af9e1c6"
      },
      "outputs": [
        {
          "output_type": "stream",
          "name": "stdout",
          "text": [
            "     class cap-shape cap-surface cap-color bruises odor gill-attachment  \\\n",
            "0        p         x           s         n       t    p               f   \n",
            "1        e         x           s         y       t    a               f   \n",
            "2        e         b           s         w       t    l               f   \n",
            "3        p         x           y         w       t    p               f   \n",
            "4        e         x           s         g       f    n               f   \n",
            "...    ...       ...         ...       ...     ...  ...             ...   \n",
            "8119     e         k           s         n       f    n               a   \n",
            "8120     e         x           s         n       f    n               a   \n",
            "8121     e         f           s         n       f    n               a   \n",
            "8122     p         k           y         n       f    y               f   \n",
            "8123     e         x           s         n       f    n               a   \n",
            "\n",
            "     gill-spacing gill-size gill-color  ... stalk-surface-below-ring  \\\n",
            "0               c         n          k  ...                        s   \n",
            "1               c         b          k  ...                        s   \n",
            "2               c         b          n  ...                        s   \n",
            "3               c         n          n  ...                        s   \n",
            "4               w         b          k  ...                        s   \n",
            "...           ...       ...        ...  ...                      ...   \n",
            "8119            c         b          y  ...                        s   \n",
            "8120            c         b          y  ...                        s   \n",
            "8121            c         b          n  ...                        s   \n",
            "8122            c         n          b  ...                        k   \n",
            "8123            c         b          y  ...                        s   \n",
            "\n",
            "     stalk-color-above-ring stalk-color-below-ring veil-type veil-color  \\\n",
            "0                         w                      w         p          w   \n",
            "1                         w                      w         p          w   \n",
            "2                         w                      w         p          w   \n",
            "3                         w                      w         p          w   \n",
            "4                         w                      w         p          w   \n",
            "...                     ...                    ...       ...        ...   \n",
            "8119                      o                      o         p          o   \n",
            "8120                      o                      o         p          n   \n",
            "8121                      o                      o         p          o   \n",
            "8122                      w                      w         p          w   \n",
            "8123                      o                      o         p          o   \n",
            "\n",
            "     ring-number ring-type spore-print-color population habitat  \n",
            "0              o         p                 k          s       u  \n",
            "1              o         p                 n          n       g  \n",
            "2              o         p                 n          n       m  \n",
            "3              o         p                 k          s       u  \n",
            "4              o         e                 n          a       g  \n",
            "...          ...       ...               ...        ...     ...  \n",
            "8119           o         p                 b          c       l  \n",
            "8120           o         p                 b          v       l  \n",
            "8121           o         p                 b          c       l  \n",
            "8122           o         e                 w          v       l  \n",
            "8123           o         p                 o          c       l  \n",
            "\n",
            "[8124 rows x 23 columns]\n"
          ]
        }
      ],
      "source": [
        "#loading dataset\n",
        "import pandas as pd\n",
        "import numpy as np\n",
        "import matplotlib.pyplot as plt\n",
        "column_names = ['class','cap-shape', 'cap-surface', 'cap-color', 'bruises','odor','gill-attachment','gill-spacing','gill-size','gill-color','stalk-shape','stalk-root','stalk-surface-above-ring','stalk-surface-below-ring','stalk-color-above-ring','stalk-color-below-ring','veil-type','veil-color','ring-number','ring-type','spore-print-color','population','habitat']\n",
        "df = pd.read_csv(\"/content/labtest/agaricus-lepiota.csv\", header=None, names=column_names)\n",
        "print(df)"
      ]
    },
    {
      "cell_type": "code",
      "source": [
        "from sklearn.model_selection import train_test_split\n",
        "from sklearn.preprocessing import LabelEncoder,  StandardScaler\n",
        "from sklearn.linear_model import LogisticRegression, Perceptron\n",
        "from sklearn.neural_network import MLPClassifier\n",
        "from sklearn.neighbors import KNeighborsClassifier\n",
        "from sklearn.svm import SVC\n",
        "from sklearn.naive_bayes import GaussianNB\n",
        "from sklearn.metrics import accuracy_score\n",
        "from sklearn.metrics import RocCurveDisplay\n",
        "from sklearn.ensemble import RandomForestClassifier\n",
        "\n",
        "from sklearn.metrics import classification_report\n"
      ],
      "metadata": {
        "id": "TGFpbmbUTjmH"
      },
      "execution_count": 97,
      "outputs": []
    },
    {
      "cell_type": "code",
      "source": [
        "df.info()"
      ],
      "metadata": {
        "colab": {
          "base_uri": "https://localhost:8080/"
        },
        "id": "ep023CVCSdEn",
        "outputId": "ea8ca802-e3f3-4aea-cfd2-89817d8f4205"
      },
      "execution_count": 98,
      "outputs": [
        {
          "output_type": "stream",
          "name": "stdout",
          "text": [
            "<class 'pandas.core.frame.DataFrame'>\n",
            "RangeIndex: 8124 entries, 0 to 8123\n",
            "Data columns (total 23 columns):\n",
            " #   Column                    Non-Null Count  Dtype \n",
            "---  ------                    --------------  ----- \n",
            " 0   class                     8124 non-null   object\n",
            " 1   cap-shape                 8124 non-null   object\n",
            " 2   cap-surface               8124 non-null   object\n",
            " 3   cap-color                 8124 non-null   object\n",
            " 4   bruises                   8124 non-null   object\n",
            " 5   odor                      8124 non-null   object\n",
            " 6   gill-attachment           8124 non-null   object\n",
            " 7   gill-spacing              8124 non-null   object\n",
            " 8   gill-size                 8124 non-null   object\n",
            " 9   gill-color                8124 non-null   object\n",
            " 10  stalk-shape               8124 non-null   object\n",
            " 11  stalk-root                8124 non-null   object\n",
            " 12  stalk-surface-above-ring  8124 non-null   object\n",
            " 13  stalk-surface-below-ring  8124 non-null   object\n",
            " 14  stalk-color-above-ring    8124 non-null   object\n",
            " 15  stalk-color-below-ring    8124 non-null   object\n",
            " 16  veil-type                 8124 non-null   object\n",
            " 17  veil-color                8124 non-null   object\n",
            " 18  ring-number               8124 non-null   object\n",
            " 19  ring-type                 8124 non-null   object\n",
            " 20  spore-print-color         8124 non-null   object\n",
            " 21  population                8124 non-null   object\n",
            " 22  habitat                   8124 non-null   object\n",
            "dtypes: object(23)\n",
            "memory usage: 1.4+ MB\n"
          ]
        }
      ]
    },
    {
      "cell_type": "code",
      "source": [
        "print(df.isnull().sum())"
      ],
      "metadata": {
        "colab": {
          "base_uri": "https://localhost:8080/"
        },
        "id": "P824_aJfP5Cv",
        "outputId": "022aa3f0-36a6-4974-b811-c84025161440"
      },
      "execution_count": 99,
      "outputs": [
        {
          "output_type": "stream",
          "name": "stdout",
          "text": [
            "class                       0\n",
            "cap-shape                   0\n",
            "cap-surface                 0\n",
            "cap-color                   0\n",
            "bruises                     0\n",
            "odor                        0\n",
            "gill-attachment             0\n",
            "gill-spacing                0\n",
            "gill-size                   0\n",
            "gill-color                  0\n",
            "stalk-shape                 0\n",
            "stalk-root                  0\n",
            "stalk-surface-above-ring    0\n",
            "stalk-surface-below-ring    0\n",
            "stalk-color-above-ring      0\n",
            "stalk-color-below-ring      0\n",
            "veil-type                   0\n",
            "veil-color                  0\n",
            "ring-number                 0\n",
            "ring-type                   0\n",
            "spore-print-color           0\n",
            "population                  0\n",
            "habitat                     0\n",
            "dtype: int64\n"
          ]
        }
      ]
    },
    {
      "cell_type": "code",
      "source": [
        "\n",
        "classes = df['class'].value_counts()\n",
        "\n",
        "classes"
      ],
      "metadata": {
        "colab": {
          "base_uri": "https://localhost:8080/"
        },
        "id": "MK_fHmnkSo8x",
        "outputId": "8ed1bbba-7111-4b28-b426-7fb50a01b196"
      },
      "execution_count": 100,
      "outputs": [
        {
          "output_type": "execute_result",
          "data": {
            "text/plain": [
              "class\n",
              "e    4208\n",
              "p    3916\n",
              "Name: count, dtype: int64"
            ]
          },
          "metadata": {},
          "execution_count": 100
        }
      ]
    },
    {
      "cell_type": "code",
      "source": [
        "X = df.loc[:, ['cap-shape', 'cap-color', 'ring-number', 'ring-type']]\n",
        "\n",
        "y = df.loc[:, 'class']"
      ],
      "metadata": {
        "id": "YrQ5fu74Yzob"
      },
      "execution_count": 101,
      "outputs": []
    },
    {
      "cell_type": "code",
      "source": [
        "encoder = LabelEncoder()\n",
        "\n",
        "for i in X.columns:\n",
        "    X[i] = encoder.fit_transform(X[i])\n",
        "\n",
        "y = encoder.fit_transform(y)"
      ],
      "metadata": {
        "id": "P8_XHh72jhQw"
      },
      "execution_count": 102,
      "outputs": []
    },
    {
      "cell_type": "code",
      "source": [
        "#Training and testing data\n",
        "X_train, X_test, y_train, y_test = train_test_split(X, y, test_size=0.2)\n",
        "print(X,y)"
      ],
      "metadata": {
        "colab": {
          "base_uri": "https://localhost:8080/"
        },
        "id": "Afmk1FDXZMmK",
        "outputId": "934bc73d-5c3c-4f83-dd2a-762df5e6b17f"
      },
      "execution_count": 103,
      "outputs": [
        {
          "output_type": "stream",
          "name": "stdout",
          "text": [
            "      cap-shape  cap-color  ring-number  ring-type\n",
            "0             5          4            1          4\n",
            "1             5          9            1          4\n",
            "2             0          8            1          4\n",
            "3             5          8            1          4\n",
            "4             5          3            1          0\n",
            "...         ...        ...          ...        ...\n",
            "8119          3          4            1          4\n",
            "8120          5          4            1          4\n",
            "8121          2          4            1          4\n",
            "8122          3          4            1          0\n",
            "8123          5          4            1          4\n",
            "\n",
            "[8124 rows x 4 columns] [1 0 0 ... 0 1 0]\n"
          ]
        }
      ]
    },
    {
      "cell_type": "code",
      "source": [
        "#creating and training models\n",
        "lr_model = LogisticRegression()\n",
        "lr_model.fit(X_train, y_train)\n",
        "mlp_model = MLPClassifier()\n",
        "knn_model = KNeighborsClassifier()\n",
        "svm_model = SVC(probability=True)\n",
        "nb_model= GaussianNB()"
      ],
      "metadata": {
        "id": "9x-QLo3AZj8H"
      },
      "execution_count": 106,
      "outputs": []
    },
    {
      "cell_type": "code",
      "source": [
        "\n",
        "mlp_model.fit(X_train, y_train)\n",
        "knn_model.fit(X_train, y_train)\n",
        "svm_model.fit(X_train, y_train)\n",
        "svm_probs = svm_model.predict_proba(X_test)\n",
        "nb_model.fit(X_train, y_train)"
      ],
      "metadata": {
        "colab": {
          "base_uri": "https://localhost:8080/",
          "height": 129
        },
        "id": "g_Pgc9ofefPV",
        "outputId": "bcb65d7a-77c9-415d-f66f-20980842215f"
      },
      "execution_count": 107,
      "outputs": [
        {
          "output_type": "stream",
          "name": "stderr",
          "text": [
            "/usr/local/lib/python3.10/dist-packages/sklearn/neural_network/_multilayer_perceptron.py:686: ConvergenceWarning: Stochastic Optimizer: Maximum iterations (200) reached and the optimization hasn't converged yet.\n",
            "  warnings.warn(\n"
          ]
        },
        {
          "output_type": "execute_result",
          "data": {
            "text/plain": [
              "GaussianNB()"
            ],
            "text/html": [
              "<style>#sk-container-id-9 {color: black;background-color: white;}#sk-container-id-9 pre{padding: 0;}#sk-container-id-9 div.sk-toggleable {background-color: white;}#sk-container-id-9 label.sk-toggleable__label {cursor: pointer;display: block;width: 100%;margin-bottom: 0;padding: 0.3em;box-sizing: border-box;text-align: center;}#sk-container-id-9 label.sk-toggleable__label-arrow:before {content: \"▸\";float: left;margin-right: 0.25em;color: #696969;}#sk-container-id-9 label.sk-toggleable__label-arrow:hover:before {color: black;}#sk-container-id-9 div.sk-estimator:hover label.sk-toggleable__label-arrow:before {color: black;}#sk-container-id-9 div.sk-toggleable__content {max-height: 0;max-width: 0;overflow: hidden;text-align: left;background-color: #f0f8ff;}#sk-container-id-9 div.sk-toggleable__content pre {margin: 0.2em;color: black;border-radius: 0.25em;background-color: #f0f8ff;}#sk-container-id-9 input.sk-toggleable__control:checked~div.sk-toggleable__content {max-height: 200px;max-width: 100%;overflow: auto;}#sk-container-id-9 input.sk-toggleable__control:checked~label.sk-toggleable__label-arrow:before {content: \"▾\";}#sk-container-id-9 div.sk-estimator input.sk-toggleable__control:checked~label.sk-toggleable__label {background-color: #d4ebff;}#sk-container-id-9 div.sk-label input.sk-toggleable__control:checked~label.sk-toggleable__label {background-color: #d4ebff;}#sk-container-id-9 input.sk-hidden--visually {border: 0;clip: rect(1px 1px 1px 1px);clip: rect(1px, 1px, 1px, 1px);height: 1px;margin: -1px;overflow: hidden;padding: 0;position: absolute;width: 1px;}#sk-container-id-9 div.sk-estimator {font-family: monospace;background-color: #f0f8ff;border: 1px dotted black;border-radius: 0.25em;box-sizing: border-box;margin-bottom: 0.5em;}#sk-container-id-9 div.sk-estimator:hover {background-color: #d4ebff;}#sk-container-id-9 div.sk-parallel-item::after {content: \"\";width: 100%;border-bottom: 1px solid gray;flex-grow: 1;}#sk-container-id-9 div.sk-label:hover label.sk-toggleable__label {background-color: #d4ebff;}#sk-container-id-9 div.sk-serial::before {content: \"\";position: absolute;border-left: 1px solid gray;box-sizing: border-box;top: 0;bottom: 0;left: 50%;z-index: 0;}#sk-container-id-9 div.sk-serial {display: flex;flex-direction: column;align-items: center;background-color: white;padding-right: 0.2em;padding-left: 0.2em;position: relative;}#sk-container-id-9 div.sk-item {position: relative;z-index: 1;}#sk-container-id-9 div.sk-parallel {display: flex;align-items: stretch;justify-content: center;background-color: white;position: relative;}#sk-container-id-9 div.sk-item::before, #sk-container-id-9 div.sk-parallel-item::before {content: \"\";position: absolute;border-left: 1px solid gray;box-sizing: border-box;top: 0;bottom: 0;left: 50%;z-index: -1;}#sk-container-id-9 div.sk-parallel-item {display: flex;flex-direction: column;z-index: 1;position: relative;background-color: white;}#sk-container-id-9 div.sk-parallel-item:first-child::after {align-self: flex-end;width: 50%;}#sk-container-id-9 div.sk-parallel-item:last-child::after {align-self: flex-start;width: 50%;}#sk-container-id-9 div.sk-parallel-item:only-child::after {width: 0;}#sk-container-id-9 div.sk-dashed-wrapped {border: 1px dashed gray;margin: 0 0.4em 0.5em 0.4em;box-sizing: border-box;padding-bottom: 0.4em;background-color: white;}#sk-container-id-9 div.sk-label label {font-family: monospace;font-weight: bold;display: inline-block;line-height: 1.2em;}#sk-container-id-9 div.sk-label-container {text-align: center;}#sk-container-id-9 div.sk-container {/* jupyter's `normalize.less` sets `[hidden] { display: none; }` but bootstrap.min.css set `[hidden] { display: none !important; }` so we also need the `!important` here to be able to override the default hidden behavior on the sphinx rendered scikit-learn.org. See: https://github.com/scikit-learn/scikit-learn/issues/21755 */display: inline-block !important;position: relative;}#sk-container-id-9 div.sk-text-repr-fallback {display: none;}</style><div id=\"sk-container-id-9\" class=\"sk-top-container\"><div class=\"sk-text-repr-fallback\"><pre>GaussianNB()</pre><b>In a Jupyter environment, please rerun this cell to show the HTML representation or trust the notebook. <br />On GitHub, the HTML representation is unable to render, please try loading this page with nbviewer.org.</b></div><div class=\"sk-container\" hidden><div class=\"sk-item\"><div class=\"sk-estimator sk-toggleable\"><input class=\"sk-toggleable__control sk-hidden--visually\" id=\"sk-estimator-id-9\" type=\"checkbox\" checked><label for=\"sk-estimator-id-9\" class=\"sk-toggleable__label sk-toggleable__label-arrow\">GaussianNB</label><div class=\"sk-toggleable__content\"><pre>GaussianNB()</pre></div></div></div></div></div>"
            ]
          },
          "metadata": {},
          "execution_count": 107
        }
      ]
    },
    {
      "cell_type": "code",
      "source": [
        "#making predictions\n",
        "lr_pred = lr_model.predict(X_test)\n",
        "mlp_pred = mlp_model.predict(X_test)\n",
        "knn_pred = knn_model.predict(X_test)\n",
        "svm_pred = svm_model.predict(X_test)\n",
        "nb_pred = nb_model.predict(X_test)\n"
      ],
      "metadata": {
        "id": "uXxrgOX3fW9Q"
      },
      "execution_count": 108,
      "outputs": []
    },
    {
      "cell_type": "code",
      "source": [
        "lr_report = classification_report(y_test, lr_pred)\n",
        "mlp_report = classification_report(y_test, mlp_pred)\n",
        "knn_report = classification_report(y_test, knn_pred)\n",
        "svm_report = classification_report(y_test, svm_pred)\n",
        "nb_report = classification_report(y_test, nb_pred)"
      ],
      "metadata": {
        "id": "duq_4m04heI5"
      },
      "execution_count": 109,
      "outputs": []
    },
    {
      "cell_type": "code",
      "source": [
        "print('Logistic Regression')\n",
        "print(lr_report)\n",
        "\n",
        "print('MLP')\n",
        "print(mlp_report)\n",
        "\n",
        "print('KNN')\n",
        "print(knn_report)\n",
        "\n",
        "print('SVM')\n",
        "print(svm_report)\n",
        "\n",
        "print('Naïve Bayes)')\n",
        "print(nb_report)\n"
      ],
      "metadata": {
        "colab": {
          "base_uri": "https://localhost:8080/"
        },
        "id": "t6UqmrI4iu-t",
        "outputId": "39de8e5a-93f8-436a-8fcb-8ab5e05da531"
      },
      "execution_count": 110,
      "outputs": [
        {
          "output_type": "stream",
          "name": "stdout",
          "text": [
            "Logistic Regression\n",
            "              precision    recall  f1-score   support\n",
            "\n",
            "           0       0.82      0.82      0.82       871\n",
            "           1       0.79      0.79      0.79       754\n",
            "\n",
            "    accuracy                           0.80      1625\n",
            "   macro avg       0.80      0.80      0.80      1625\n",
            "weighted avg       0.80      0.80      0.80      1625\n",
            "\n",
            "MLP\n",
            "              precision    recall  f1-score   support\n",
            "\n",
            "           0       0.89      0.85      0.87       871\n",
            "           1       0.84      0.88      0.86       754\n",
            "\n",
            "    accuracy                           0.86      1625\n",
            "   macro avg       0.86      0.86      0.86      1625\n",
            "weighted avg       0.86      0.86      0.86      1625\n",
            "\n",
            "KNN\n",
            "              precision    recall  f1-score   support\n",
            "\n",
            "           0       0.93      0.89      0.91       871\n",
            "           1       0.88      0.92      0.90       754\n",
            "\n",
            "    accuracy                           0.91      1625\n",
            "   macro avg       0.91      0.91      0.91      1625\n",
            "weighted avg       0.91      0.91      0.91      1625\n",
            "\n",
            "SVM\n",
            "              precision    recall  f1-score   support\n",
            "\n",
            "           0       0.92      0.82      0.86       871\n",
            "           1       0.81      0.92      0.86       754\n",
            "\n",
            "    accuracy                           0.86      1625\n",
            "   macro avg       0.86      0.87      0.86      1625\n",
            "weighted avg       0.87      0.86      0.86      1625\n",
            "\n",
            "Naïve Bayes)\n",
            "              precision    recall  f1-score   support\n",
            "\n",
            "           0       0.82      0.82      0.82       871\n",
            "           1       0.79      0.79      0.79       754\n",
            "\n",
            "    accuracy                           0.81      1625\n",
            "   macro avg       0.80      0.80      0.80      1625\n",
            "weighted avg       0.81      0.81      0.81      1625\n",
            "\n"
          ]
        }
      ]
    },
    {
      "cell_type": "code",
      "source": [
        "#ROC curve\n",
        "from sklearn.metrics import RocCurveDisplay\n",
        "from sklearn.metrics import roc_curve\n",
        "\n",
        "lr_probs = lr_model.predict_proba(X_test)[:,1]\n",
        "mlp_probs = mlp_model.predict_proba(X_test)[:,1]\n",
        "knn_probs = knn_model.predict_proba(X_test)[:,1]\n",
        "svm_probs = svm_model.predict_proba(X_test)[:,1]\n",
        "nb_probs = nb_model.predict_proba(X_test)[:,1]\n",
        "\n",
        "lr_fpr, lr_tpr, _ = roc_curve(y_test, lr_probs)\n",
        "mlp_fpr, mlp_tpr, _ = roc_curve(y_test, mlp_probs)\n",
        "knn_fpr, knn_tpr, _ = roc_curve(y_test, knn_probs)\n",
        "svm_fpr, svm_tpr, _ = roc_curve(y_test, svm_probs)\n",
        "nb_fpr, nb_tpr, _ = roc_curve(y_test, nb_probs)\n",
        "\n",
        "\n",
        "plt.plot(lr_fpr, lr_tpr, marker='.', label='LR')\n",
        "plt.plot(mlp_fpr, mlp_tpr, marker='.', label='MLP')\n",
        "plt.plot(knn_fpr, knn_tpr, marker='.', label='KNN')\n",
        "plt.plot(svm_fpr, svm_tpr, marker='.', label='SVM')\n",
        "plt.plot(nb_fpr, nb_tpr, marker='.', label='NB')\n",
        "\n",
        "plt.xlabel('False Positive Rate')\n",
        "plt.ylabel('True Positive Rate')\n",
        "plt.title('ROC Curve')\n",
        "plt.legend()\n",
        "plt.show()"
      ],
      "metadata": {
        "colab": {
          "base_uri": "https://localhost:8080/",
          "height": 472
        },
        "id": "NF_7xLMHj_Kq",
        "outputId": "60d9b116-968a-4125-856a-5676745235ed"
      },
      "execution_count": 112,
      "outputs": [
        {
          "output_type": "display_data",
          "data": {
            "text/plain": [
              "<Figure size 640x480 with 1 Axes>"
            ],
            "image/png": "[encoded data removed]"
          },
          "metadata": {}
        }
      ]
    },
    {
      "cell_type": "code",
      "source": [
        "random_forest_model = RandomForestClassifier()\n",
        "random_forest_model.fit(X_train, y_train)\n",
        "random_forest_pred = random_forest_model.predict(X_test)\n"
      ],
      "metadata": {
        "id": "JjrCZ6QHmF0d"
      },
      "execution_count": 113,
      "outputs": []
    },
    {
      "cell_type": "code",
      "source": [
        "random_forest_report = classification_report(y_test, random_forest_pred)\n",
        "\n",
        "print(random_forest_report)\n",
        "#from this report i infered that KNN classification model is the best suitable for the given dataset"
      ],
      "metadata": {
        "colab": {
          "base_uri": "https://localhost:8080/"
        },
        "id": "qyoZakWwmHVn",
        "outputId": "8a0cb565-3d46-49ac-d6ee-d4cf13364c8c"
      },
      "execution_count": 115,
      "outputs": [
        {
          "output_type": "stream",
          "name": "stdout",
          "text": [
            "              precision    recall  f1-score   support\n",
            "\n",
            "           0       0.94      0.89      0.91       871\n",
            "           1       0.88      0.93      0.91       754\n",
            "\n",
            "    accuracy                           0.91      1625\n",
            "   macro avg       0.91      0.91      0.91      1625\n",
            "weighted avg       0.91      0.91      0.91      1625\n",
            "\n"
          ]
        }
      ]
    }
  ]
}